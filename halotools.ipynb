{
 "cells": [
  {
   "cell_type": "markdown",
   "metadata": {},
   "source": [
    "# Halo Tools"
   ]
  },
  {
   "cell_type": "markdown",
   "metadata": {},
   "source": [
    "__Halotools:__ a community-driven Python package designed to build and test models of the galaxy-halo connection. Halotools provides a modular platform for creating mock universes of galaxies starting from a catalog of dark matter halos obtained from a cosmological simulation. The package supports many of the common forms used to describe galaxy-halo models: the halo occupation distribution (HOD), the conditional luminosity function (CLF), abundance matching, and alternatives to these models that include effects such as environmental quenching or variable galaxy assembly bias. Satellite galaxies can be modeled to live in subhalos, or to follow custom number density profiles within their halos, including spatial and/or velocity bias with respect to the dark matter profile. The package has an optimized toolkit to make mock observations on a synthetic galaxy population, including galaxy clustering, galaxy-galaxy lensing, galaxy group identification, RSD multipoles, void statistics, pairwise velocities and others, allowing direct comparison to observations. Halotools is object-oriented, enabling complex models to be built from a set of simple, interchangeable components, including those of your own creation. Halotools has an automated testing suite and is exhaustively documented on http://halotools.readthedocs.io, which includes quickstart guides, source code notes and a large collection of tutorials. The documentation is effectively an online textbook on how to build and study empirical models of galaxy formation with Python."
   ]
  },
  {
   "cell_type": "markdown",
   "metadata": {},
   "source": [
    "* Read the  <a href=\"https://halotools.readthedocs.io/en/latest/overview.html#halotools-science-overview\">science overview</a>\n",
    "* Here is <a href=\"https://halotools.readthedocs.io/en/latest/\"> the documentation</a>\n",
    "* <a href=\"https://halotools.readthedocs.io/en/latest/install.html#step-by-step-install\">Installing the package</a>\n",
    "* Start with the  <a href=\"https://halotools.readthedocs.io/en/latest/quickstart_and_tutorials/getting_started_overview.html#getting-started\">getting started page.</a>\n",
    "* The <a href=\"http://adsabs.harvard.edu/abs/2016arXiv160604106H\">Halo tools paper by Andrew Hearin.</a>\n"
   ]
  },
  {
   "cell_type": "markdown",
   "metadata": {},
   "source": [
    "## Downloading the default catalog"
   ]
  },
  {
   "cell_type": "markdown",
   "metadata": {},
   "source": [
    "Follow the steps outlined in the getting started page to also download the default halo catalog. \n",
    "\n",
    "The default catalog is a $z=0$ snapshot from the <a href=\"http://hipacc.ucsc.edu/Bolshoi/MergerTrees.html\n",
    "\"> Bolshoi Simulation.</a>\n",
    "\n",
    "This is a simulation with WMAP5 cosmology with Lbox = 250 Mpc/h and particle mass of ~1e8 Msun/h.\n",
    "\n",
    "A list of other simulations that are available can be found in the  <a href=\"https://halotools.readthedocs.io/en/latest/quickstart_and_tutorials/managing_catalogs/supported_sim_list.html#supported-sim-list\">simulation page.</a>\n",
    "\n",
    "Once you have the default halo catalog, let's do the following:"
   ]
  },
  {
   "cell_type": "code",
   "execution_count": 21,
   "metadata": {
    "collapsed": true
   },
   "outputs": [],
   "source": [
    "from halotools.sim_manager import CachedHaloCatalog"
   ]
  },
  {
   "cell_type": "code",
   "execution_count": 22,
   "metadata": {
    "collapsed": false
   },
   "outputs": [],
   "source": [
    "default_halocat = sim_manager.CachedHaloCatalog() \n",
    "halocat = CachedHaloCatalog(simname = 'bolshoi', redshift = 0)"
   ]
  },
  {
   "cell_type": "markdown",
   "metadata": {},
   "source": [
    "Tabular data storing the actual halo information is stored in the `halo_table` attribute:"
   ]
  },
  {
   "cell_type": "code",
   "execution_count": 23,
   "metadata": {
    "collapsed": true
   },
   "outputs": [],
   "source": [
    "# By the way, this is a useful way to see the docstring associated with a given method\n",
    "?halocat.halo_table()"
   ]
  },
  {
   "cell_type": "code",
   "execution_count": 24,
   "metadata": {
    "collapsed": false
   },
   "outputs": [
    {
     "name": "stdout",
     "output_type": "stream",
     "text": [
      "['halo_vmax_firstacc', 'halo_dmvir_dt_tdyn', 'halo_macc', 'halo_scale_factor', 'halo_vmax_mpeak', 'halo_m_pe_behroozi', 'halo_xoff', 'halo_spin', 'halo_scale_factor_firstacc', 'halo_c_to_a', 'halo_mvir_firstacc', 'halo_scale_factor_last_mm', 'halo_scale_factor_mpeak', 'halo_pid', 'halo_m500c', 'halo_id', 'halo_halfmass_scale_factor', 'halo_upid', 'halo_t_by_u', 'halo_rvir', 'halo_vpeak', 'halo_dmvir_dt_100myr', 'halo_mpeak', 'halo_m_pe_diemer', 'halo_jx', 'halo_jy', 'halo_jz', 'halo_m2500c', 'halo_mvir', 'halo_voff', 'halo_axisA_z', 'halo_axisA_x', 'halo_axisA_y', 'halo_y', 'halo_b_to_a', 'halo_x', 'halo_z', 'halo_m200b', 'halo_vacc', 'halo_scale_factor_lastacc', 'halo_vmax', 'halo_m200c', 'halo_vx', 'halo_vy', 'halo_vz', 'halo_dmvir_dt_inst', 'halo_rs', 'halo_nfw_conc', 'halo_hostid', 'halo_mvir_host_halo']\n"
     ]
    }
   ],
   "source": [
    "# Let's print the list of keys in this halo table\n",
    "# You should noe be able to understand many of these fields\n",
    "print((list(halocat.halo_table.keys())))"
   ]
  },
  {
   "cell_type": "code",
   "execution_count": 25,
   "metadata": {
    "collapsed": false
   },
   "outputs": [
    {
     "name": "stdout",
     "output_type": "stream",
     "text": [
      "halo_vmax_firstacc halo_dmvir_dt_tdyn ... halo_hostid halo_mvir_host_halo\n",
      "------------------ ------------------ ... ----------- -------------------\n",
      "            952.39            10670.0 ...  3060299107           1.643e+14\n",
      "            823.11            12860.0 ...  3060312953           1.589e+14\n",
      "            799.42             5633.0 ...  3058440575           1.144e+14\n",
      "            679.37            14900.0 ...  3058441456           9.709e+13\n",
      "            735.68             3519.0 ...  3058452345           8.527e+13\n",
      "            696.86             6331.0 ...  3058463669           8.426e+13\n",
      "            681.43             5579.0 ...  3058683023           8.357e+13\n",
      "            668.98             5497.0 ...  3060115960           7.795e+13\n",
      "            654.46             8205.0 ...  3058477222           7.284e+13\n"
     ]
    }
   ],
   "source": [
    "# Look at a few values in the catalog\n",
    "print(halocat.halo_table[0:9])"
   ]
  },
  {
   "cell_type": "markdown",
   "metadata": {},
   "source": [
    "There is also extensive metadata bound to all cached halo catalogs. For example, the `processing_notes` attribute stores a plain-language description of how the initial halo catalog was reduced:"
   ]
  },
  {
   "cell_type": "code",
   "execution_count": 26,
   "metadata": {
    "collapsed": false
   },
   "outputs": [
    {
     "name": "stdout",
     "output_type": "stream",
     "text": [
      "b'Catalog only contains (sub)halos with Mpeak greater than 300 particles. The following columns have been divided by 1000 to convert them from the kpc/h units provided in the original ASCII source to the Mpc/h units assumed by Halotools:  halo_rvir, halo_rs, halo_xoff'\n"
     ]
    }
   ],
   "source": [
    "print(halocat.processing_notes)"
   ]
  },
  {
   "cell_type": "markdown",
   "metadata": {},
   "source": [
    "Here is a useful page that tells you about the <a href=\"https://www.cosmosim.org/cms/documentation/database-structure/tables/rockstar/\">columns in Rockstar halo catalogs.</a>\n",
    "\n",
    "An important one to know about is \"pID\" : rockstarId of least massive host halo, -1 if it is a distinct halo\n",
    "\n",
    "* pID= -1 => parent halo\n",
    "* pID>0   => subhalo\n"
   ]
  },
  {
   "cell_type": "markdown",
   "metadata": {},
   "source": [
    "## Downloading a subset of the dark matter particles"
   ]
  },
  {
   "cell_type": "markdown",
   "metadata": {},
   "source": [
    "The catalog that you downloaded above was a dark matter halo catalog. Let's also download a catalog of randomly downsampled dark matter particles.\n",
    "\n",
    "Take a look at this method <a href=\"https://halotools.readthedocs.io/en/latest/api/halotools.sim_manager.DownloadManager.html#halotools.sim_manager.DownloadManager.download_ptcl_table\"> download_ptcl_table</a>\n"
   ]
  },
  {
   "cell_type": "code",
   "execution_count": 1,
   "metadata": {
    "collapsed": false
   },
   "outputs": [
    {
     "name": "stdout",
     "output_type": "stream",
     "text": [
      "halotools_v0p4\n"
     ]
    }
   ],
   "source": [
    "# download_ptcl_table\n",
    "\n",
    "from halotools.sim_manager import sim_defaults\n",
    "from halotools.sim_manager import DownloadManager\n",
    "\n",
    "dman = DownloadManager()\n",
    "simname = 'bolshoi'\n",
    "z = 0\n",
    "version_name = sim_defaults.default_version_name\n",
    "print(version_name)\n",
    "\n",
    "#dman.download_ptcl_table(simname = 'bolshoi', version_name = version_name, redshift = z) \n",
    "\n",
    "# Check under your directory to see if the particles were downloaded\n",
    "#/Users/alexie/.astropy/cache/halotools/particle_catalogs/bolshoi"
   ]
  },
  {
   "cell_type": "code",
   "execution_count": 29,
   "metadata": {
    "collapsed": false
   },
   "outputs": [
    {
     "ename": "InvalidCacheLogEntry",
     "evalue": "\nYou tried to load a cached particle catalog with the following characteristics:\n\nsimname = ``b'bolshoi'``\nptcl_version_name = ``halotools_v0p4``  (set by sim_defaults.default_version_name)\nredshift = ``-0.0003``\n\nThere is no matching catalog in cache within dz_tol = 0.05 of these inputs.\nThere are no simulations matching your input simname.\n",
     "output_type": "error",
     "traceback": [
      "\u001b[0;31m---------------------------------------------------------------------------\u001b[0m",
      "\u001b[0;31mAttributeError\u001b[0m                            Traceback (most recent call last)",
      "\u001b[0;32m/anaconda/lib/python3.6/site-packages/halotools/sim_manager/cached_halo_catalog.py\u001b[0m in \u001b[0;36mptcl_table\u001b[0;34m(self)\u001b[0m\n\u001b[1;32m    615\u001b[0m         \u001b[0;32mtry\u001b[0m\u001b[0;34m:\u001b[0m\u001b[0;34m\u001b[0m\u001b[0m\n\u001b[0;32m--> 616\u001b[0;31m             \u001b[0;32mreturn\u001b[0m \u001b[0mself\u001b[0m\u001b[0;34m.\u001b[0m\u001b[0m_ptcl_table\u001b[0m\u001b[0;34m\u001b[0m\u001b[0m\n\u001b[0m\u001b[1;32m    617\u001b[0m         \u001b[0;32mexcept\u001b[0m \u001b[0mAttributeError\u001b[0m\u001b[0;34m:\u001b[0m\u001b[0;34m\u001b[0m\u001b[0m\n",
      "\u001b[0;31mAttributeError\u001b[0m: 'CachedHaloCatalog' object has no attribute '_ptcl_table'",
      "\nDuring handling of the above exception, another exception occurred:\n",
      "\u001b[0;31mAttributeError\u001b[0m                            Traceback (most recent call last)",
      "\u001b[0;32m/anaconda/lib/python3.6/site-packages/halotools/sim_manager/cached_halo_catalog.py\u001b[0m in \u001b[0;36mptcl_table\u001b[0;34m(self)\u001b[0m\n\u001b[1;32m    618\u001b[0m             \u001b[0;32mtry\u001b[0m\u001b[0;34m:\u001b[0m\u001b[0;34m\u001b[0m\u001b[0m\n\u001b[0;32m--> 619\u001b[0;31m                 \u001b[0mptcl_log_entry\u001b[0m \u001b[0;34m=\u001b[0m \u001b[0mself\u001b[0m\u001b[0;34m.\u001b[0m\u001b[0mptcl_log_entry\u001b[0m\u001b[0;34m\u001b[0m\u001b[0m\n\u001b[0m\u001b[1;32m    620\u001b[0m             \u001b[0;32mexcept\u001b[0m \u001b[0mAttributeError\u001b[0m\u001b[0;34m:\u001b[0m\u001b[0;34m\u001b[0m\u001b[0m\n",
      "\u001b[0;31mAttributeError\u001b[0m: 'CachedHaloCatalog' object has no attribute 'ptcl_log_entry'",
      "\nDuring handling of the above exception, another exception occurred:\n",
      "\u001b[0;31mInvalidCacheLogEntry\u001b[0m                      Traceback (most recent call last)",
      "\u001b[0;32m<ipython-input-29-edd60a11f2e4>\u001b[0m in \u001b[0;36m<module>\u001b[0;34m()\u001b[0m\n\u001b[1;32m      1\u001b[0m \u001b[0;31m# This is how you access the x,y,z positions of Dm particles\u001b[0m\u001b[0;34m\u001b[0m\u001b[0;34m\u001b[0m\u001b[0m\n\u001b[0;32m----> 2\u001b[0;31m \u001b[0mpx\u001b[0m \u001b[0;34m=\u001b[0m \u001b[0mhalocat\u001b[0m\u001b[0;34m.\u001b[0m\u001b[0mptcl_table\u001b[0m\u001b[0;34m[\u001b[0m\u001b[0;34m'x'\u001b[0m\u001b[0;34m]\u001b[0m\u001b[0;34m\u001b[0m\u001b[0m\n\u001b[0m\u001b[1;32m      3\u001b[0m \u001b[0mpy\u001b[0m \u001b[0;34m=\u001b[0m \u001b[0mhalocat\u001b[0m\u001b[0;34m.\u001b[0m\u001b[0mptcl_table\u001b[0m\u001b[0;34m[\u001b[0m\u001b[0;34m'y'\u001b[0m\u001b[0;34m]\u001b[0m\u001b[0;34m\u001b[0m\u001b[0m\n\u001b[1;32m      4\u001b[0m \u001b[0mpz\u001b[0m \u001b[0;34m=\u001b[0m \u001b[0mhalocat\u001b[0m\u001b[0;34m.\u001b[0m\u001b[0mptcl_table\u001b[0m\u001b[0;34m[\u001b[0m\u001b[0;34m'z'\u001b[0m\u001b[0;34m]\u001b[0m\u001b[0;34m\u001b[0m\u001b[0m\n",
      "\u001b[0;32m/anaconda/lib/python3.6/site-packages/halotools/sim_manager/cached_halo_catalog.py\u001b[0m in \u001b[0;36mptcl_table\u001b[0;34m(self)\u001b[0m\n\u001b[1;32m    620\u001b[0m             \u001b[0;32mexcept\u001b[0m \u001b[0mAttributeError\u001b[0m\u001b[0;34m:\u001b[0m\u001b[0;34m\u001b[0m\u001b[0m\n\u001b[1;32m    621\u001b[0m                 self.ptcl_log_entry = (\n\u001b[0;32m--> 622\u001b[0;31m                     \u001b[0mself\u001b[0m\u001b[0;34m.\u001b[0m\u001b[0m_retrieve_matching_ptcl_cache_log_entry\u001b[0m\u001b[0;34m(\u001b[0m\u001b[0;34m)\u001b[0m\u001b[0;34m\u001b[0m\u001b[0m\n\u001b[0m\u001b[1;32m    623\u001b[0m                     )\n\u001b[1;32m    624\u001b[0m                 \u001b[0mptcl_log_entry\u001b[0m \u001b[0;34m=\u001b[0m \u001b[0mself\u001b[0m\u001b[0;34m.\u001b[0m\u001b[0mptcl_log_entry\u001b[0m\u001b[0;34m\u001b[0m\u001b[0m\n",
      "\u001b[0;32m/anaconda/lib/python3.6/site-packages/halotools/sim_manager/cached_halo_catalog.py\u001b[0m in \u001b[0;36m_retrieve_matching_ptcl_cache_log_entry\u001b[0;34m(self)\u001b[0m\n\u001b[1;32m    417\u001b[0m                 \u001b[0;32melse\u001b[0m\u001b[0;34m:\u001b[0m\u001b[0;34m\u001b[0m\u001b[0m\n\u001b[1;32m    418\u001b[0m                     \u001b[0mmsg\u001b[0m \u001b[0;34m+=\u001b[0m \u001b[0;34m\"There are no simulations matching your input simname.\\n\"\u001b[0m\u001b[0;34m\u001b[0m\u001b[0m\n\u001b[0;32m--> 419\u001b[0;31m             \u001b[0;32mraise\u001b[0m \u001b[0mInvalidCacheLogEntry\u001b[0m\u001b[0;34m(\u001b[0m\u001b[0mmsg\u001b[0m\u001b[0;34m)\u001b[0m\u001b[0;34m\u001b[0m\u001b[0m\n\u001b[0m\u001b[1;32m    420\u001b[0m \u001b[0;34m\u001b[0m\u001b[0m\n\u001b[1;32m    421\u001b[0m         \u001b[0;32melif\u001b[0m \u001b[0mlen\u001b[0m\u001b[0;34m(\u001b[0m\u001b[0mmatching_entries\u001b[0m\u001b[0;34m)\u001b[0m \u001b[0;34m==\u001b[0m \u001b[0;36m1\u001b[0m\u001b[0;34m:\u001b[0m\u001b[0;34m\u001b[0m\u001b[0m\n",
      "\u001b[0;31mInvalidCacheLogEntry\u001b[0m: \nYou tried to load a cached particle catalog with the following characteristics:\n\nsimname = ``b'bolshoi'``\nptcl_version_name = ``halotools_v0p4``  (set by sim_defaults.default_version_name)\nredshift = ``-0.0003``\n\nThere is no matching catalog in cache within dz_tol = 0.05 of these inputs.\nThere are no simulations matching your input simname.\n"
     ]
    }
   ],
   "source": [
    "# This is how you access the x,y,z positions of dark matter particles\n",
    "halocat = CachedHaloCatalog(simname = 'bolshoi', redshift = 0)\n",
    "\n",
    "px = halocat.ptcl_table['x']\n",
    "py = halocat.ptcl_table['y']\n",
    "pz = halocat.ptcl_table['z']"
   ]
  },
  {
   "cell_type": "code",
   "execution_count": null,
   "metadata": {
    "collapsed": true
   },
   "outputs": [],
   "source": []
  }
 ],
 "metadata": {
  "kernelspec": {
   "display_name": "Python 3",
   "language": "python",
   "name": "python3"
  },
  "language_info": {
   "codemirror_mode": {
    "name": "ipython",
    "version": 3
   },
   "file_extension": ".py",
   "mimetype": "text/x-python",
   "name": "python",
   "nbconvert_exporter": "python",
   "pygments_lexer": "ipython3",
   "version": "3.6.0"
  }
 },
 "nbformat": 4,
 "nbformat_minor": 2
}
