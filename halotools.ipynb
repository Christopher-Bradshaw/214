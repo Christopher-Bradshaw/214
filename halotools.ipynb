{
 "cells": [
  {
   "cell_type": "markdown",
   "metadata": {},
   "source": [
    "# Halo Tools"
   ]
  },
  {
   "cell_type": "markdown",
   "metadata": {},
   "source": [
    "__Halotools:__ a community-driven Python package designed to build and test models of the galaxy-halo connection. Halotools provides a modular platform for creating mock universes of galaxies starting from a catalog of dark matter halos obtained from a cosmological simulation. The package supports many of the common forms used to describe galaxy-halo models: the halo occupation distribution (HOD), the conditional luminosity function (CLF), abundance matching, and alternatives to these models that include effects such as environmental quenching or variable galaxy assembly bias. Satellite galaxies can be modeled to live in subhalos, or to follow custom number density profiles within their halos, including spatial and/or velocity bias with respect to the dark matter profile. The package has an optimized toolkit to make mock observations on a synthetic galaxy population, including galaxy clustering, galaxy-galaxy lensing, galaxy group identification, RSD multipoles, void statistics, pairwise velocities and others, allowing direct comparison to observations. Halotools is object-oriented, enabling complex models to be built from a set of simple, interchangeable components, including those of your own creation. Halotools has an automated testing suite and is exhaustively documented on http://halotools.readthedocs.io, which includes quickstart guides, source code notes and a large collection of tutorials. The documentation is effectively an online textbook on how to build and study empirical models of galaxy formation with Python."
   ]
  },
  {
   "cell_type": "markdown",
   "metadata": {},
   "source": [
    "* Read the  <a href=\"https://halotools.readthedocs.io/en/latest/overview.html#halotools-science-overview\">science overview</a>\n",
    "* Here is <a href=\"https://halotools.readthedocs.io/en/latest/\"> the documentation</a>\n",
    "* <a href=\"https://halotools.readthedocs.io/en/latest/install.html#step-by-step-install\">Installing the package</a>\n",
    "* Start with the  <a href=\"https://halotools.readthedocs.io/en/latest/quickstart_and_tutorials/getting_started_overview.html#getting-started\">getting started page.</a>\n",
    "* The <a href=\"http://adsabs.harvard.edu/abs/2016arXiv160604106H\">Halo tools paper by Andrew Hearin.</a>\n"
   ]
  },
  {
   "cell_type": "markdown",
   "metadata": {},
   "source": [
    "## Downloading the default catalog"
   ]
  },
  {
   "cell_type": "markdown",
   "metadata": {},
   "source": [
    "Follow the steps outlined in the getting started page to also download the default halo catalog. \n",
    "\n",
    "The default catalog is a $z=0$ snapshot from the <a href=\"http://hipacc.ucsc.edu/Bolshoi/MergerTrees.html\n",
    "\"> Bolshoi Simulation.</a>\n",
    "\n",
    "This is a simulation with WMAP5 cosmology with Lbox = 250 Mpc/h and particle mass of ~1e8 Msun/h.\n",
    "\n",
    "A list of other simulations that are available can be found in the  <a href=\"https://halotools.readthedocs.io/en/latest/quickstart_and_tutorials/managing_catalogs/supported_sim_list.html#supported-sim-list\">simulation page.</a>\n",
    "\n",
    "Once you have the default halo catalog, let's do the following:"
   ]
  },
  {
   "cell_type": "code",
   "execution_count": null,
   "metadata": {
    "collapsed": true
   },
   "outputs": [],
   "source": [
    "from halotools.sim_manager import CachedHaloCatalog"
   ]
  },
  {
   "cell_type": "code",
   "execution_count": null,
   "metadata": {
    "collapsed": false
   },
   "outputs": [],
   "source": [
    "default_halocat = CachedHaloCatalog() \n",
    "halocat = CachedHaloCatalog(simname = 'bolshoi', redshift = 0)"
   ]
  },
  {
   "cell_type": "markdown",
   "metadata": {},
   "source": [
    "Tabular data storing the actual halo information is stored in the `halo_table` attribute:"
   ]
  },
  {
   "cell_type": "code",
   "execution_count": null,
   "metadata": {
    "collapsed": true
   },
   "outputs": [],
   "source": [
    "# By the way, this is a useful way to see the docstring associated with a given method\n",
    "?halocat.halo_table()"
   ]
  },
  {
   "cell_type": "code",
   "execution_count": null,
   "metadata": {
    "collapsed": false
   },
   "outputs": [],
   "source": [
    "# Let's print the list of keys in this halo table\n",
    "# You should noe be able to understand many of these fields\n",
    "print((list(halocat.halo_table.keys())))"
   ]
  },
  {
   "cell_type": "code",
   "execution_count": null,
   "metadata": {
    "collapsed": false
   },
   "outputs": [],
   "source": [
    "# Look at a few values in the catalog\n",
    "print(halocat.halo_table[0:9])"
   ]
  },
  {
   "cell_type": "markdown",
   "metadata": {},
   "source": [
    "There is also extensive metadata bound to all cached halo catalogs. For example, the `processing_notes` attribute stores a plain-language description of how the initial halo catalog was reduced:"
   ]
  },
  {
   "cell_type": "code",
   "execution_count": null,
   "metadata": {
    "collapsed": false
   },
   "outputs": [],
   "source": [
    "print(halocat.processing_notes)"
   ]
  },
  {
   "cell_type": "markdown",
   "metadata": {},
   "source": [
    "Here is a useful page that tells you about the <a href=\"https://www.cosmosim.org/cms/documentation/database-structure/tables/rockstar/\">columns in Rockstar halo catalogs.</a>\n",
    "\n",
    "An important one to know about is \"pID\" : rockstarId of least massive host halo, -1 if it is a distinct halo\n",
    "\n",
    "* pID= -1 => parent halo\n",
    "* pID>0   => subhalo\n"
   ]
  },
  {
   "cell_type": "markdown",
   "metadata": {},
   "source": [
    "## Downloading a subset of the dark matter particles"
   ]
  },
  {
   "cell_type": "markdown",
   "metadata": {},
   "source": [
    "The catalog that you downloaded above was a dark matter halo catalog. Let's also download a catalog of randomly downsampled dark matter particles.\n",
    "\n",
    "Take a look at this method <a href=\"https://halotools.readthedocs.io/en/latest/api/halotools.sim_manager.DownloadManager.html#halotools.sim_manager.DownloadManager.download_ptcl_table\"> download_ptcl_table</a>\n"
   ]
  },
  {
   "cell_type": "code",
   "execution_count": null,
   "metadata": {
    "collapsed": false
   },
   "outputs": [],
   "source": [
    "# download_ptcl_table\n",
    "\n",
    "from halotools.sim_manager import sim_defaults\n",
    "from halotools.sim_manager import DownloadManager\n",
    "\n",
    "dman = DownloadManager()\n",
    "simname = 'bolshoi'\n",
    "z = 0\n",
    "version_name = sim_defaults.default_version_name\n",
    "print(version_name)\n",
    "\n",
    "dman.download_ptcl_table(simname = 'bolshoi', version_name = version_name, redshift = z,overwrite=True) \n",
    "\n",
    "# Check under your directory to see if the particles were downloaded\n",
    "#/Users/alexie/.astropy/cache/halotools/particle_catalogs/bolshoi\n",
    "\n",
    "# If for some reason, the download doesnt work, the repeat the same steps with Bolshoi planck instead\n",
    "#(we can also use Bolshoi plank), use 'bolplanck'"
   ]
  },
  {
   "cell_type": "markdown",
   "metadata": {},
   "source": [
    "You should see some useful output such as the following:\n",
    "\n",
    "The particle catalog has been successfully downloaded to the following location:\n",
    "/Users/alexie/.astropy/cache/halotools/particle_catalogs/bolplanck/hlist_1.00231.particles.halotools_v0p4.hdf5\n",
    "\n",
    "This filename and its associated metadata have also been added to the Halotools cache log, \n",
    "as reflected by a newly added line to the following ASCII file:\n",
    "\n",
    "/Users/alexie/.astropy/cache/halotools/ptcl_table_cache_log.txt\n",
    "\n",
    "You can access the particle data with the following syntax:\n",
    "\n",
    "from halotools.sim_manager import CachedHaloCatalog \n",
    "halocat = CachedHaloCatalog(simname = 'bolplanck', version_name = 'halotools_v0p4', redshift = -0.0023)\n",
    "particles = halocat.ptcl_table \n",
    "\n",
    "Mock observable functions such as the galaxy-galaxy lensing signal \n",
    "can now be computed for mock galaxies populated into this simulation.\n",
    "\n",
    "Note that if you move this particle catalog into a new location on disk, \n",
    "you must update both the ``fname`` metadata of the hdf5 file \n",
    "as well as the``fname`` column of the corresponding entry in the log. \n",
    "You can accomplish this with the ``update_cached_file_location``method \n",
    "of the PtclTableCache class."
   ]
  },
  {
   "cell_type": "code",
   "execution_count": 9,
   "metadata": {
    "collapsed": false
   },
   "outputs": [],
   "source": [
    "# In principle, this is this is how you access the x,y,z positions of dark matter particles\n",
    "# However, these seems to be a python 3 issue with this, instead skip to the next cell ...\n",
    "\n",
    "#from halotools.sim_manager import CachedHaloCatalog \n",
    "#halocat = CachedHaloCatalog(simname = 'bolplanck', version_name = 'halotools_v0p4', redshift = -0.0023)\n",
    "#particles = halocat.ptcl_table \n",
    "\n",
    "#px = halocat.ptcl_table['x']\n",
    "#py = halocat.ptcl_table['y']\n",
    "#pz = halocat.ptcl_table['z']"
   ]
  },
  {
   "cell_type": "code",
   "execution_count": 6,
   "metadata": {
    "collapsed": false
   },
   "outputs": [
    {
     "name": "stdout",
     "output_type": "stream",
     "text": [
      "done!\n"
     ]
    }
   ],
   "source": [
    "# Read in instead this way\n",
    "\n",
    "from astropy.table import Table\n",
    "\n",
    "ptcl_table = Table.read('/Users/alexie/.astropy/cache/halotools/particle_catalogs/bolshoi/hlist_1.00035.particles.halotools_v0p4.hdf5',path='data')\n",
    "\n",
    "px = ptcl_table['x']\n",
    "py = ptcl_table['y']\n",
    "pz = ptcl_table['z']\n"
   ]
  },
  {
   "cell_type": "code",
   "execution_count": 8,
   "metadata": {
    "collapsed": false
   },
   "outputs": [
    {
     "data": {
      "image/png": "[encoded data removed]",
      "text/plain": [
       "<matplotlib.figure.Figure at 0x112967da0>"
      ]
     },
     "metadata": {
      "image/png": {
       "height": 349,
       "width": 544
      }
     },
     "output_type": "display_data"
    }
   ],
   "source": [
    "# This is a box with L=250\n",
    "\n",
    "fig, ax = plt.subplots(1, 1)\n",
    "\n",
    "__=ax.hist(pz, normed=True)"
   ]
  }
 ],
 "metadata": {
  "kernelspec": {
   "display_name": "Python 3",
   "language": "python",
   "name": "python3"
  },
  "language_info": {
   "codemirror_mode": {
    "name": "ipython",
    "version": 3
   },
   "file_extension": ".py",
   "mimetype": "text/x-python",
   "name": "python",
   "nbconvert_exporter": "python",
   "pygments_lexer": "ipython3",
   "version": "3.6.0"
  }
 },
 "nbformat": 4,
 "nbformat_minor": 2
}
